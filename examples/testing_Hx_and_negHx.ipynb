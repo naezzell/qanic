{
 "cells": [
  {
   "cell_type": "code",
   "execution_count": 1,
   "metadata": {},
   "outputs": [],
   "source": [
    "# imports\n",
    "import sys\n",
    "sys.path.append('..')\n",
    "import qanic as qa\n",
    "import qutip as qt\n",
    "import networkx as nx\n",
    "import matplotlib.pyplot as plt\n",
    "import numpy as np"
   ]
  },
  {
   "cell_type": "markdown",
   "metadata": {},
   "source": [
    "# Encoding $H_z$, internal represenation, and basic methods\n",
    "To use our package, one must first encode $H_z$ into a dictionary (support for other inputs can be added easily if desired, but it's not a priory of ours). Then, dictH can be passed to the primary class of our package, IsingH. "
   ]
  },
  {
   "cell_type": "code",
   "execution_count": 2,
   "metadata": {},
   "outputs": [],
   "source": [
    "dictH = {(0, 0): 0, (1, 1): 0, (2, 2): 0,\n",
    "        (0, 1): 1, (0, 2): 1, (1, 2): 1}\n",
    "H = qa.IsingH(dictH, \"K3\", hx_ver=0)\n",
    "mH = qa.IsingH(dictH, \"K3\", hx_ver=1)"
   ]
  },
  {
   "cell_type": "markdown",
   "metadata": {},
   "source": [
    "## Internal $H_z$ representation via QuTiP\n",
    "Our package uses [QuTiP](http://qutip.org/ \"QuTiP homepage\") as our \"quantum backend.\" That is, QuTiP gives us an ecosystem to define Hamiltonians and wavefunctions that we can evolve with various solvers. Upon creating H, dictH is automatically mapped to the QuTiP version of $H_{TFIM}$ is automatically created."
   ]
  },
  {
   "cell_type": "code",
   "execution_count": 3,
   "metadata": {},
   "outputs": [
    {
     "name": "stdout",
     "output_type": "stream",
     "text": [
      "Result of Hx == H.num_Hx is True.\n",
      "Result of Hz == H.num_Hz is True.\n",
      "Quantum object: dims = [[2, 2, 2], [2, 2, 2]], shape = (8, 8), type = oper, isherm = True\n",
      "Qobj data =\n",
      "[[ 3.  0.  0.  0.  0.  0.  0.  0.]\n",
      " [ 0. -1.  0.  0.  0.  0.  0.  0.]\n",
      " [ 0.  0. -1.  0.  0.  0.  0.  0.]\n",
      " [ 0.  0.  0. -1.  0.  0.  0.  0.]\n",
      " [ 0.  0.  0.  0. -1.  0.  0.  0.]\n",
      " [ 0.  0.  0.  0.  0. -1.  0.  0.]\n",
      " [ 0.  0.  0.  0.  0.  0. -1.  0.]\n",
      " [ 0.  0.  0.  0.  0.  0.  0.  3.]]\n"
     ]
    }
   ],
   "source": [
    "# up to the A(s) / 2 constant, Hx for 3 qubits is defined as...\n",
    "I, X = qt.identity(2), qt.sigmax()\n",
    "Hx = qt.tensor(X, I, I) + qt.tensor(I, X, I) + qt.tensor(I, I, X)\n",
    "print(\"Result of Hx == H.num_Hx is {}.\".format(Hx == H.num_Hx))\n",
    "\n",
    "Z = qt.sigmaz()\n",
    "# we can ignore qubit-magnetic field interaction terms since h_i = 0 for all i\n",
    "Hz = dictH[(0, 1)]*qt.tensor(Z, Z, I) + dictH[(0, 2)]*qt.tensor(Z, I, Z) + dictH[(1, 2)]*qt.tensor(I, Z, Z)\n",
    "print(\"Result of Hz == H.num_Hz is {}.\".format(Hz == H.num_Hz))\n",
    "\n",
    "print(H.num_Hz)"
   ]
  },
  {
   "cell_type": "code",
   "execution_count": 4,
   "metadata": {},
   "outputs": [
    {
     "name": "stdout",
     "output_type": "stream",
     "text": [
      "Result of Hx == H.num_Hx is True.\n"
     ]
    }
   ],
   "source": [
    "print(\"Result of Hx == H.num_Hx is {}.\".format((-1)*Hx == mH.num_Hx))"
   ]
  },
  {
   "cell_type": "markdown",
   "metadata": {},
   "source": [
    "## Simple Methods on H"
   ]
  },
  {
   "cell_type": "code",
   "execution_count": 5,
   "metadata": {},
   "outputs": [
    {
     "data": {
      "image/png": "[encoded data removed]",
      "text/plain": [
       "<Figure size 432x288 with 1 Axes>"
      ]
     },
     "metadata": {},
     "output_type": "display_data"
    }
   ],
   "source": [
    "# this shows the connectively of the Hz graph\n",
    "# NOTE: dist not to scale\n",
    "H.visualize()"
   ]
  },
  {
   "cell_type": "code",
   "execution_count": 6,
   "metadata": {},
   "outputs": [
    {
     "data": {
      "text/plain": [
       "(array([-1., -1., -1., -1., -1., -1.,  3.,  3.]),\n",
       " array([Quantum object: dims = [[2, 2, 2], [1, 1, 1]], shape = (8, 1), type = ket\n",
       " Qobj data =\n",
       " [[0.]\n",
       "  [1.]\n",
       "  [0.]\n",
       "  [0.]\n",
       "  [0.]\n",
       "  [0.]\n",
       "  [0.]\n",
       "  [0.]],\n",
       "        Quantum object: dims = [[2, 2, 2], [1, 1, 1]], shape = (8, 1), type = ket\n",
       " Qobj data =\n",
       " [[0.]\n",
       "  [0.]\n",
       "  [1.]\n",
       "  [0.]\n",
       "  [0.]\n",
       "  [0.]\n",
       "  [0.]\n",
       "  [0.]],\n",
       "        Quantum object: dims = [[2, 2, 2], [1, 1, 1]], shape = (8, 1), type = ket\n",
       " Qobj data =\n",
       " [[0.]\n",
       "  [0.]\n",
       "  [0.]\n",
       "  [1.]\n",
       "  [0.]\n",
       "  [0.]\n",
       "  [0.]\n",
       "  [0.]],\n",
       "        Quantum object: dims = [[2, 2, 2], [1, 1, 1]], shape = (8, 1), type = ket\n",
       " Qobj data =\n",
       " [[0.]\n",
       "  [0.]\n",
       "  [0.]\n",
       "  [0.]\n",
       "  [1.]\n",
       "  [0.]\n",
       "  [0.]\n",
       "  [0.]],\n",
       "        Quantum object: dims = [[2, 2, 2], [1, 1, 1]], shape = (8, 1), type = ket\n",
       " Qobj data =\n",
       " [[0.]\n",
       "  [0.]\n",
       "  [0.]\n",
       "  [0.]\n",
       "  [0.]\n",
       "  [1.]\n",
       "  [0.]\n",
       "  [0.]],\n",
       "        Quantum object: dims = [[2, 2, 2], [1, 1, 1]], shape = (8, 1), type = ket\n",
       " Qobj data =\n",
       " [[0.]\n",
       "  [0.]\n",
       "  [0.]\n",
       "  [0.]\n",
       "  [0.]\n",
       "  [0.]\n",
       "  [1.]\n",
       "  [0.]],\n",
       "        Quantum object: dims = [[2, 2, 2], [1, 1, 1]], shape = (8, 1), type = ket\n",
       " Qobj data =\n",
       " [[1.]\n",
       "  [0.]\n",
       "  [0.]\n",
       "  [0.]\n",
       "  [0.]\n",
       "  [0.]\n",
       "  [0.]\n",
       "  [0.]],\n",
       "        Quantum object: dims = [[2, 2, 2], [1, 1, 1]], shape = (8, 1), type = ket\n",
       " Qobj data =\n",
       " [[0.]\n",
       "  [0.]\n",
       "  [0.]\n",
       "  [0.]\n",
       "  [0.]\n",
       "  [0.]\n",
       "  [0.]\n",
       "  [1.]]], dtype=object))"
      ]
     },
     "execution_count": 6,
     "metadata": {},
     "output_type": "execute_result"
    }
   ],
   "source": [
    "# we can diagonlize Hz using QuTiP\n",
    "H.diag_Hz()"
   ]
  },
  {
   "cell_type": "code",
   "execution_count": 7,
   "metadata": {},
   "outputs": [
    {
     "name": "stdout",
     "output_type": "stream",
     "text": [
      "GS state: [0.        +0.j 0.40824829+0.j 0.40824829+0.j 0.40824829+0.j\n",
      " 0.40824829+0.j 0.40824829+0.j 0.40824829+0.j 0.        +0.j] with E: -1.0\n"
     ]
    }
   ],
   "source": [
    "# however, QuTiP doesn't handle degenerate gs well, so\n",
    "# we implemented our own function\n",
    "gsinfo = H.Hz_gs_info(etol=1e-8, stol=1e-12)\n",
    "print(\"GS state: {} with E: {}\".format(gsinfo['gs'], gsinfo['E']))"
   ]
  },
  {
   "cell_type": "code",
   "execution_count": 8,
   "metadata": {},
   "outputs": [
    {
     "name": "stdout",
     "output_type": "stream",
     "text": [
      "GS state: [0.        +0.j 0.40824829+0.j 0.40824829+0.j 0.40824829+0.j\n",
      " 0.40824829+0.j 0.40824829+0.j 0.40824829+0.j 0.        +0.j] with E: -1.0\n"
     ]
    }
   ],
   "source": [
    "m_gsinfo = mH.Hz_gs_info(etol=1e-8, stol=1e-12)\n",
    "print(\"GS state: {} with E: {}\".format(m_gsinfo['gs'], m_gsinfo['E']))"
   ]
  },
  {
   "cell_type": "code",
   "execution_count": 9,
   "metadata": {},
   "outputs": [
    {
     "data": {
      "text/latex": [
       "Quantum object: dims = [[2, 2, 2], [1, 1, 1]], shape = (8, 1), type = ket\\begin{equation*}\\left(\\begin{array}{*{11}c}0.352\\\\-0.354\\\\-0.354\\\\0.354\\\\-0.354\\\\0.354\\\\0.354\\\\-0.352\\\\\\end{array}\\right)\\end{equation*}"
      ],
      "text/plain": [
       "Quantum object: dims = [[2, 2, 2], [1, 1, 1]], shape = (8, 1), type = ket\n",
       "Qobj data =\n",
       "[[ 0.35161384]\n",
       " [-0.35419755]\n",
       " [-0.35419755]\n",
       " [ 0.35419755]\n",
       " [-0.35419755]\n",
       " [ 0.35419755]\n",
       " [ 0.35419755]\n",
       " [-0.35161384]]"
      ]
     },
     "execution_count": 9,
     "metadata": {},
     "output_type": "execute_result"
    }
   ],
   "source": [
    "# similarly, we can get the gs of H_TFIM(s=0)\n",
    "H.dwaveH0_gs()"
   ]
  },
  {
   "cell_type": "code",
   "execution_count": 10,
   "metadata": {},
   "outputs": [
    {
     "data": {
      "text/latex": [
       "Quantum object: dims = [[2, 2, 2], [1, 1, 1]], shape = (8, 1), type = ket\\begin{equation*}\\left(\\begin{array}{*{11}c}-0.352\\\\-0.354\\\\-0.354\\\\-0.354\\\\-0.354\\\\-0.354\\\\-0.354\\\\-0.352\\\\\\end{array}\\right)\\end{equation*}"
      ],
      "text/plain": [
       "Quantum object: dims = [[2, 2, 2], [1, 1, 1]], shape = (8, 1), type = ket\n",
       "Qobj data =\n",
       "[[-0.35161384]\n",
       " [-0.35419755]\n",
       " [-0.35419755]\n",
       " [-0.35419755]\n",
       " [-0.35419755]\n",
       " [-0.35419755]\n",
       " [-0.35419755]\n",
       " [-0.35161384]]"
      ]
     },
     "execution_count": 10,
     "metadata": {},
     "output_type": "execute_result"
    }
   ],
   "source": [
    "mH.dwaveH0_gs()"
   ]
  },
  {
   "cell_type": "markdown",
   "metadata": {},
   "source": [
    "We can recreate this ground-state in the expected way as an \"equal superposition\" among all the qubits"
   ]
  },
  {
   "cell_type": "code",
   "execution_count": 11,
   "metadata": {},
   "outputs": [
    {
     "data": {
      "text/latex": [
       "Quantum object: dims = [[2, 2, 2], [1, 1, 1]], shape = (8, 1), type = ket\\begin{equation*}\\left(\\begin{array}{*{11}c}-0.354\\\\0.354\\\\0.354\\\\-0.354\\\\0.354\\\\-0.354\\\\-0.354\\\\0.354\\\\\\end{array}\\right)\\end{equation*}"
      ],
      "text/plain": [
       "Quantum object: dims = [[2, 2, 2], [1, 1, 1]], shape = (8, 1), type = ket\n",
       "Qobj data =\n",
       "[[-0.35355339]\n",
       " [ 0.35355339]\n",
       " [ 0.35355339]\n",
       " [-0.35355339]\n",
       " [ 0.35355339]\n",
       " [-0.35355339]\n",
       " [-0.35355339]\n",
       " [ 0.35355339]]"
      ]
     },
     "execution_count": 11,
     "metadata": {},
     "output_type": "execute_result"
    }
   ],
   "source": [
    "qt.tensor([X.groundstate()[1] for qubits in range(3)])"
   ]
  },
  {
   "cell_type": "code",
   "execution_count": 12,
   "metadata": {},
   "outputs": [
    {
     "data": {
      "text/latex": [
       "Quantum object: dims = [[2, 2, 2], [1, 1, 1]], shape = (8, 1), type = ket\\begin{equation*}\\left(\\begin{array}{*{11}c}-0.354\\\\-0.354\\\\-0.354\\\\-0.354\\\\-0.354\\\\-0.354\\\\-0.354\\\\-0.354\\\\\\end{array}\\right)\\end{equation*}"
      ],
      "text/plain": [
       "Quantum object: dims = [[2, 2, 2], [1, 1, 1]], shape = (8, 1), type = ket\n",
       "Qobj data =\n",
       "[[-0.35355339]\n",
       " [-0.35355339]\n",
       " [-0.35355339]\n",
       " [-0.35355339]\n",
       " [-0.35355339]\n",
       " [-0.35355339]\n",
       " [-0.35355339]\n",
       " [-0.35355339]]"
      ]
     },
     "execution_count": 12,
     "metadata": {},
     "output_type": "execute_result"
    }
   ],
   "source": [
    "qt.tensor([(-1*X).groundstate()[1] for qubits in range(3)])"
   ]
  },
  {
   "cell_type": "markdown",
   "metadata": {},
   "source": [
    "There is a minor difference, of course, since $H_{TFIM}$ always contains both terms. That is, at $s = 0$, $A(0) >> B(0)$, but $B(0)$ is still not 0."
   ]
  },
  {
   "cell_type": "code",
   "execution_count": 13,
   "metadata": {},
   "outputs": [
    {
     "data": {
      "text/latex": [
       "Quantum object: dims = [[2, 2, 2], [1, 1, 1]], shape = (8, 1), type = ket\\begin{equation*}\\left(\\begin{array}{*{11}c}-8.607\\times10^{-08}\\\\0.408\\\\0.408\\\\-0.408\\\\0.408\\\\-0.408\\\\-0.408\\\\8.607\\times10^{-08}\\\\\\end{array}\\right)\\end{equation*}"
      ],
      "text/plain": [
       "Quantum object: dims = [[2, 2, 2], [1, 1, 1]], shape = (8, 1), type = ket\n",
       "Qobj data =\n",
       "[[-8.60700868e-08]\n",
       " [ 4.08248291e-01]\n",
       " [ 4.08248290e-01]\n",
       " [-4.08248290e-01]\n",
       " [ 4.08248290e-01]\n",
       " [-4.08248291e-01]\n",
       " [-4.08248290e-01]\n",
       " [ 8.60700868e-08]]"
      ]
     },
     "execution_count": 13,
     "metadata": {},
     "output_type": "execute_result"
    }
   ],
   "source": [
    "# or H_TFIM(s=1)\n",
    "H.dwaveH1_gs()"
   ]
  },
  {
   "cell_type": "code",
   "execution_count": 14,
   "metadata": {},
   "outputs": [
    {
     "data": {
      "text/latex": [
       "Quantum object: dims = [[2, 2, 2], [1, 1, 1]], shape = (8, 1), type = ket\\begin{equation*}\\left(\\begin{array}{*{11}c}8.607\\times10^{-08}\\\\0.408\\\\0.408\\\\0.408\\\\0.408\\\\0.408\\\\0.408\\\\8.607\\times10^{-08}\\\\\\end{array}\\right)\\end{equation*}"
      ],
      "text/plain": [
       "Quantum object: dims = [[2, 2, 2], [1, 1, 1]], shape = (8, 1), type = ket\n",
       "Qobj data =\n",
       "[[8.60700868e-08]\n",
       " [4.08248291e-01]\n",
       " [4.08248290e-01]\n",
       " [4.08248290e-01]\n",
       " [4.08248290e-01]\n",
       " [4.08248291e-01]\n",
       " [4.08248290e-01]\n",
       " [8.60700868e-08]]"
      ]
     },
     "execution_count": 14,
     "metadata": {},
     "output_type": "execute_result"
    }
   ],
   "source": [
    "mH.dwaveH1_gs()"
   ]
  },
  {
   "cell_type": "markdown",
   "metadata": {},
   "source": [
    "Notice that this is almost the same as the result of Hz_gs_info which performed direct diagonlizaiton. The minor error arises for the same reason as before: $A(s)$ and $B(s)$ are never actually 0."
   ]
  },
  {
   "cell_type": "markdown",
   "metadata": {},
   "source": [
    "# Numerical Annealing to obtain ground-state of $H_z$\n",
    "\n",
    "There are two important numerical annealing methods on H: numeric_anneal and frem_anneal. In both cases, the the internals handle discretizing the input schedules, using this schedule to interpolate A(s(t)) and B(s(t)), and the, of course, solving $H_{TFIM}$ for the discretized times. The output is the final probability amplitudes of each state obtained from this process where the initial state is either a known ground-state or a user-supplied input state."
   ]
  },
  {
   "cell_type": "markdown",
   "metadata": {},
   "source": [
    "## Numeric Forward Anneal"
   ]
  },
  {
   "cell_type": "code",
   "execution_count": 15,
   "metadata": {},
   "outputs": [],
   "source": [
    "# direct diag results for comparison\n",
    "gsprobs = (gsinfo['gs']*gsinfo['gs'].conj()).real\n",
    "m_gsprobs = (m_gsinfo['gs']*m_gsinfo['gs'].conj()).real"
   ]
  },
  {
   "cell_type": "code",
   "execution_count": 16,
   "metadata": {},
   "outputs": [
    {
     "data": {
      "text/plain": [
       "array([0.        , 0.16666667, 0.16666667, 0.16666667, 0.16666667,\n",
       "       0.16666667, 0.16666667, 0.        ])"
      ]
     },
     "execution_count": 16,
     "metadata": {},
     "output_type": "execute_result"
    }
   ],
   "source": [
    "gsprobs"
   ]
  },
  {
   "cell_type": "code",
   "execution_count": 17,
   "metadata": {},
   "outputs": [
    {
     "data": {
      "text/plain": [
       "array([0.        , 0.16666667, 0.16666667, 0.16666667, 0.16666667,\n",
       "       0.16666667, 0.16666667, 0.        ])"
      ]
     },
     "execution_count": 17,
     "metadata": {},
     "output_type": "execute_result"
    }
   ],
   "source": [
    "m_gsprobs"
   ]
  },
  {
   "cell_type": "code",
   "execution_count": 18,
   "metadata": {},
   "outputs": [],
   "source": [
    "# let's define a simple forward anneal schedule and see how the results scale with T\n",
    "def fsch(T):\n",
    "    return [[0, 0], [T, 1]]\n",
    "\n",
    "# let's perform anneals of different lengths and compare the results to direct diagonlization\n",
    "quick = H.numeric_anneal(fsch(0.1))\n",
    "medium = H.numeric_anneal(fsch(1))\n",
    "slow = H.numeric_anneal(fsch(10))\n",
    "results = [quick, medium, slow]"
   ]
  },
  {
   "cell_type": "code",
   "execution_count": 19,
   "metadata": {},
   "outputs": [],
   "source": [
    "# let's perform anneals of different lengths and compare the results to direct diagonlization\n",
    "m_quick = mH.numeric_anneal(fsch(0.1))\n",
    "m_medium = mH.numeric_anneal(fsch(1))\n",
    "m_slow = mH.numeric_anneal(fsch(10))\n",
    "m_results = [m_quick, m_medium, m_slow]"
   ]
  },
  {
   "cell_type": "code",
   "execution_count": 20,
   "metadata": {},
   "outputs": [
    {
     "data": {
      "image/png": "[encoded data removed]",
      "text/plain": [
       "<Figure size 720x720 with 4 Axes>"
      ]
     },
     "metadata": {
      "needs_background": "light"
     },
     "output_type": "display_data"
    }
   ],
   "source": [
    "fig = plt.figure(figsize = (10, 10))\n",
    "fig.subplots_adjust(hspace=0.2, wspace=0.3)\n",
    "ylim = [0, 0.2]\n",
    "\n",
    "fig.add_subplot(2, 2, 1)\n",
    "plt.bar([0, 1, 2, 3, 4, 5, 6, 7], gsprobs.flatten())\n",
    "plt.ylabel('Measurement Probability')\n",
    "plt.title('Direct Diag')\n",
    "plt.ylim(ylim)\n",
    "\n",
    "fig.add_subplot(2, 2, 2)\n",
    "plt.bar([0, 1, 2, 3, 4, 5, 6, 7], quick.flatten())\n",
    "plt.ylabel('Measurement Probability')\n",
    "plt.title('T = 0.1 Numeric Forward Anneal')\n",
    "plt.ylim(ylim)\n",
    "\n",
    "fig.add_subplot(2, 2, 3)\n",
    "plt.bar([0, 1, 2, 3, 4, 5, 6, 7], medium.flatten())\n",
    "plt.ylabel('Measurement Probability')\n",
    "plt.xlabel('|n> basis state')\n",
    "plt.title('T = 1 Numeric Forward Anneal')\n",
    "plt.ylim(ylim)\n",
    "\n",
    "fig.add_subplot(2, 2, 4)\n",
    "plt.bar([0, 1, 2, 3, 4, 5, 6, 7], slow.flatten())\n",
    "plt.ylabel('Measurement Probability')\n",
    "plt.xlabel('|n> basis state')\n",
    "plt.title('T = 10 Numeric Forward Anneal')\n",
    "plt.ylim(ylim)\n",
    "plt.show()"
   ]
  },
  {
   "cell_type": "code",
   "execution_count": 21,
   "metadata": {},
   "outputs": [
    {
     "data": {
      "image/png": "[encoded data removed]",
      "text/plain": [
       "<Figure size 720x720 with 4 Axes>"
      ]
     },
     "metadata": {
      "needs_background": "light"
     },
     "output_type": "display_data"
    }
   ],
   "source": [
    "fig = plt.figure(figsize = (10, 10))\n",
    "fig.subplots_adjust(hspace=0.2, wspace=0.3)\n",
    "ylim = [0, 0.2]\n",
    "\n",
    "fig.add_subplot(2, 2, 1)\n",
    "plt.bar([0, 1, 2, 3, 4, 5, 6, 7], m_gsprobs.flatten())\n",
    "plt.ylabel('Measurement Probability')\n",
    "plt.title('Direct Diag')\n",
    "plt.ylim(ylim)\n",
    "\n",
    "fig.add_subplot(2, 2, 2)\n",
    "plt.bar([0, 1, 2, 3, 4, 5, 6, 7], m_quick.flatten())\n",
    "plt.ylabel('Measurement Probability')\n",
    "plt.title('T = 0.1 Numeric Forward Anneal')\n",
    "plt.ylim(ylim)\n",
    "\n",
    "fig.add_subplot(2, 2, 3)\n",
    "plt.bar([0, 1, 2, 3, 4, 5, 6, 7], m_medium.flatten())\n",
    "plt.ylabel('Measurement Probability')\n",
    "plt.xlabel('|n> basis state')\n",
    "plt.title('T = 1 Numeric Forward Anneal')\n",
    "plt.ylim(ylim)\n",
    "\n",
    "fig.add_subplot(2, 2, 4)\n",
    "plt.bar([0, 1, 2, 3, 4, 5, 6, 7], m_slow.flatten())\n",
    "plt.ylabel('Measurement Probability')\n",
    "plt.xlabel('|n> basis state')\n",
    "plt.title('T = 10 Numeric Forward Anneal')\n",
    "plt.ylim(ylim)\n",
    "plt.show()"
   ]
  },
  {
   "cell_type": "code",
   "execution_count": 22,
   "metadata": {},
   "outputs": [
    {
     "data": {
      "image/png": "[encoded data removed]",
      "text/plain": [
       "<Figure size 432x288 with 1 Axes>"
      ]
     },
     "metadata": {
      "needs_background": "light"
     },
     "output_type": "display_data"
    }
   ],
   "source": [
    "# Perhaps easier to see if a \"total different\" plot\n",
    "diffs = [sum(abs(gsprobs - result)) for result in results]\n",
    "plt.bar([\"0.1\", \"1\", \"10\"], diffs)\n",
    "plt.ylabel('Summed Difference')\n",
    "plt.xlabel('T')\n",
    "plt.title('Comparison to Direct Diag')\n",
    "plt.show()"
   ]
  },
  {
   "cell_type": "code",
   "execution_count": 23,
   "metadata": {},
   "outputs": [
    {
     "data": {
      "image/png": "[encoded data removed]",
      "text/plain": [
       "<Figure size 432x288 with 1 Axes>"
      ]
     },
     "metadata": {
      "needs_background": "light"
     },
     "output_type": "display_data"
    }
   ],
   "source": [
    "# Perhaps easier to see if a \"total different\" plot\n",
    "m_diffs = [sum(abs(gsprobs - result)) for result in m_results]\n",
    "plt.bar([\"0.1\", \"1\", \"10\"], m_diffs)\n",
    "plt.ylabel('Summed Difference')\n",
    "plt.xlabel('T')\n",
    "plt.title('Comparison to Direct Diag')\n",
    "plt.show()"
   ]
  },
  {
   "cell_type": "code",
   "execution_count": null,
   "metadata": {},
   "outputs": [],
   "source": []
  }
 ],
 "metadata": {
  "kernelspec": {
   "display_name": "Python 3",
   "language": "python",
   "name": "python3"
  },
  "language_info": {
   "codemirror_mode": {
    "name": "ipython",
    "version": 3
   },
   "file_extension": ".py",
   "mimetype": "text/x-python",
   "name": "python",
   "nbconvert_exporter": "python",
   "pygments_lexer": "ipython3",
   "version": "3.8.5"
  }
 },
 "nbformat": 4,
 "nbformat_minor": 4
}
